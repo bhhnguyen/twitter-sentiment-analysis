{
 "cells": [
  {
   "cell_type": "code",
   "execution_count": null,
   "metadata": {},
   "outputs": [],
   "source": [
    "import re\n",
    "import pandas as pd\n",
    "import numpy as np\n",
    "import matplotlib.pyplot as plt\n",
    "import seaborn as sns\n",
    "import operator\n",
    "from vaderSentiment.vaderSentiment import SentimentIntensityAnalyzer\n",
    "import warnings\n",
    "warnings.filterwarnings('ignore', category=DeprecationWarning)\n",
    "\n",
    "%matplotlib inline\n",
    "\n",
    "\n",
    "train = pd.read_csv('Resources/train.csv')\n",
    "analyser = SentimentIntensityAnalyzer()\n",
    "\n",
    "def sentiment(sentence):\n",
    "    score = analyser.polarity_scores(sentence)\n",
    "    value = max(score.items(), key=operator.itemgetter(1))[0]\n",
    "    returnValue = 1\n",
    "    if value == \"pos\":\n",
    "        returnValue = 2\n",
    "    if value == \"neg\":\n",
    "        returnValue = 0\n",
    "    return returnValue\n",
    "\n",
    "train['stemmed_tweet'] = train['stemmed_tweet'].astype(str)\n",
    "train['tidy_tweet'] = train['tidy_tweet'].astype(str)\n",
    "train['tweet'] = train['tweet'].astype(str)\n",
    "\n",
    "train['sentiment1'] = train['tweet'].apply(lambda x: sentiment(x))\n",
    "train['sentiment2'] = train['tidy_tweet'].apply(lambda x: sentiment(x))\n",
    "\n",
    "train = train.drop(columns=['no_query'])\n",
    "train['sentiment_sum'] = train['sentiment1'] + train['sentiment2']\n",
    "\n",
    "def get_extreme(x):\n",
    "    returnVal = 1\n",
    "    if x > 2:\n",
    "        returnVal = 2\n",
    "    if x < 2:\n",
    "        returnVal = 0\n",
    "    return returnVal\n",
    "\n",
    "train['label'] = train['sentiment_sum'].apply(lambda x: get_extreme(x))\n",
    "train['text'] = train['tidy_tweet']\n",
    "\n"
   ]
  }
 ],
 "metadata": {
  "kernelspec": {
   "display_name": "Python 3",
   "language": "python",
   "name": "python3"
  },
  "language_info": {
   "codemirror_mode": {
    "name": "ipython",
    "version": 3
   },
   "file_extension": ".py",
   "mimetype": "text/x-python",
   "name": "python",
   "nbconvert_exporter": "python",
   "pygments_lexer": "ipython3",
   "version": "3.7.4"
  }
 },
 "nbformat": 4,
 "nbformat_minor": 2
}
